{
  "nbformat": 4,
  "nbformat_minor": 0,
  "metadata": {
    "colab": {
      "name": "1000pict_batch4_epoch_4_my_neural_style_v04.ipynb",
      "version": "0.3.2",
      "provenance": [],
      "collapsed_sections": [],
      "toc_visible": true
    },
    "language_info": {
      "codemirror_mode": {
        "name": "ipython",
        "version": 3
      },
      "file_extension": ".py",
      "mimetype": "text/x-python",
      "name": "python",
      "nbconvert_exporter": "python",
      "pygments_lexer": "ipython3",
      "version": "3.7.3"
    },
    "kernelspec": {
      "name": "python3",
      "display_name": "Python 3"
    },
    "accelerator": "GPU"
  },
  "cells": [
    {
      "cell_type": "markdown",
      "metadata": {
        "id": "dBco-TbRVBRJ",
        "colab_type": "text"
      },
      "source": [
        "<p style=\"align: center;\"><img src=\"https://static.tildacdn.com/tild6636-3531-4239-b465-376364646465/Deep_Learning_School.png\", width=300, height=300></p>\n",
        "\n",
        "<h3 style=\"text-align: center;\"><b>Физтех-Школа Прикладной математики и информатики (ФПМИ) МФТИ</b></h3>\n",
        "\n"
      ]
    },
    {
      "cell_type": "code",
      "metadata": {
        "id": "cC5GHsj-dAsL",
        "colab_type": "code",
        "colab": {
          "base_uri": "https://localhost:8080/",
          "height": 68
        },
        "outputId": "b422078c-5fd5-490a-991d-1e20f6a99190"
      },
      "source": [
        "import torch\n",
        "train_on_gpu = torch.cuda.is_available()\n",
        "\n",
        "if not train_on_gpu:\n",
        "    print('CUDA is not available.  Training on CPU ...')\n",
        "else:\n",
        "    print('CUDA is available!  Training on GPU ...')\n",
        "    \n",
        "print('Версия torch', torch.__version__)\n",
        "device = torch.device('cuda:0' if torch.cuda.is_available() else 'cpu')\n",
        "if torch.cuda.is_available():\n",
        "    print(torch.cuda.get_device_name(device))\n",
        "else:\n",
        "    print('Using CPU')"
      ],
      "execution_count": 1,
      "outputs": [
        {
          "output_type": "stream",
          "text": [
            "CUDA is available!  Training on GPU ...\n",
            "Версия torch 1.1.0\n",
            "Tesla T4\n"
          ],
          "name": "stdout"
        }
      ]
    },
    {
      "cell_type": "code",
      "metadata": {
        "id": "OhXSS_ipdA-B",
        "colab_type": "code",
        "colab": {
          "base_uri": "https://localhost:8080/",
          "height": 853
        },
        "outputId": "830b479f-bfc6-49de-e4a9-e2d9d8a9184f"
      },
      "source": [
        "!pip install -U torch torchvision\n",
        "!pip install pytelegrambotapi\n",
        "!pip install python-telegram-bot\n",
        "!pip install scipy==1.0.0"
      ],
      "execution_count": 2,
      "outputs": [
        {
          "output_type": "stream",
          "text": [
            "Requirement already up-to-date: torch in /usr/local/lib/python3.6/dist-packages (1.1.0)\n",
            "Requirement already up-to-date: torchvision in /usr/local/lib/python3.6/dist-packages (0.3.0)\n",
            "Requirement already satisfied, skipping upgrade: numpy in /usr/local/lib/python3.6/dist-packages (from torch) (1.16.4)\n",
            "Requirement already satisfied, skipping upgrade: six in /usr/local/lib/python3.6/dist-packages (from torchvision) (1.12.0)\n",
            "Requirement already satisfied, skipping upgrade: pillow>=4.1.1 in /usr/local/lib/python3.6/dist-packages (from torchvision) (4.3.0)\n",
            "Requirement already satisfied, skipping upgrade: olefile in /usr/local/lib/python3.6/dist-packages (from pillow>=4.1.1->torchvision) (0.46)\n",
            "Collecting pytelegrambotapi\n",
            "\u001b[?25l  Downloading https://files.pythonhosted.org/packages/25/5e/9711642455c4e17b1202d4f6403ede0fef37fc145038aee7193f3b24445e/pyTelegramBotAPI-3.6.6.tar.gz (49kB)\n",
            "\u001b[K     |████████████████████████████████| 51kB 6.2MB/s \n",
            "\u001b[?25hRequirement already satisfied: requests in /usr/local/lib/python3.6/dist-packages (from pytelegrambotapi) (2.21.0)\n",
            "Requirement already satisfied: six in /usr/local/lib/python3.6/dist-packages (from pytelegrambotapi) (1.12.0)\n",
            "Requirement already satisfied: certifi>=2017.4.17 in /usr/local/lib/python3.6/dist-packages (from requests->pytelegrambotapi) (2019.3.9)\n",
            "Requirement already satisfied: chardet<3.1.0,>=3.0.2 in /usr/local/lib/python3.6/dist-packages (from requests->pytelegrambotapi) (3.0.4)\n",
            "Requirement already satisfied: urllib3<1.25,>=1.21.1 in /usr/local/lib/python3.6/dist-packages (from requests->pytelegrambotapi) (1.24.3)\n",
            "Requirement already satisfied: idna<2.9,>=2.5 in /usr/local/lib/python3.6/dist-packages (from requests->pytelegrambotapi) (2.8)\n",
            "Building wheels for collected packages: pytelegrambotapi\n",
            "  Building wheel for pytelegrambotapi (setup.py) ... \u001b[?25l\u001b[?25hdone\n",
            "  Stored in directory: /root/.cache/pip/wheels/ae/69/d7/26f1fb04ac4d4c95bff643cea765a8e91c4348da25b4744e08\n",
            "Successfully built pytelegrambotapi\n",
            "Installing collected packages: pytelegrambotapi\n",
            "Successfully installed pytelegrambotapi-3.6.6\n",
            "Collecting python-telegram-bot\n",
            "\u001b[?25l  Downloading https://files.pythonhosted.org/packages/84/6c/47932a4041ee76650ad1f45a80e1422077e1e99c08a4d7a61cfbe5393d41/python_telegram_bot-11.1.0-py2.py3-none-any.whl (326kB)\n",
            "\u001b[K     |████████████████████████████████| 327kB 9.3MB/s \n",
            "\u001b[?25hRequirement already satisfied: future>=0.16.0 in /usr/local/lib/python3.6/dist-packages (from python-telegram-bot) (0.16.0)\n",
            "Requirement already satisfied: certifi in /usr/local/lib/python3.6/dist-packages (from python-telegram-bot) (2019.3.9)\n",
            "Collecting cryptography (from python-telegram-bot)\n",
            "\u001b[?25l  Downloading https://files.pythonhosted.org/packages/97/18/c6557f63a6abde34707196fb2cad1c6dc0dbff25a200d5044922496668a4/cryptography-2.7-cp34-abi3-manylinux1_x86_64.whl (2.3MB)\n",
            "\u001b[K     |████████████████████████████████| 2.3MB 53.0MB/s \n",
            "\u001b[?25hRequirement already satisfied: six>=1.4.1 in /usr/local/lib/python3.6/dist-packages (from cryptography->python-telegram-bot) (1.12.0)\n",
            "Collecting asn1crypto>=0.21.0 (from cryptography->python-telegram-bot)\n",
            "\u001b[?25l  Downloading https://files.pythonhosted.org/packages/ea/cd/35485615f45f30a510576f1a56d1e0a7ad7bd8ab5ed7cdc600ef7cd06222/asn1crypto-0.24.0-py2.py3-none-any.whl (101kB)\n",
            "\u001b[K     |████████████████████████████████| 102kB 30.4MB/s \n",
            "\u001b[?25hRequirement already satisfied: cffi!=1.11.3,>=1.8 in /usr/local/lib/python3.6/dist-packages (from cryptography->python-telegram-bot) (1.12.3)\n",
            "Requirement already satisfied: pycparser in /usr/local/lib/python3.6/dist-packages (from cffi!=1.11.3,>=1.8->cryptography->python-telegram-bot) (2.19)\n",
            "Installing collected packages: asn1crypto, cryptography, python-telegram-bot\n",
            "Successfully installed asn1crypto-0.24.0 cryptography-2.7 python-telegram-bot-11.1.0\n",
            "Collecting scipy==1.0.0\n",
            "\u001b[?25l  Downloading https://files.pythonhosted.org/packages/d8/5e/caa01ba7be11600b6a9d39265440d7b3be3d69206da887c42bef049521f2/scipy-1.0.0-cp36-cp36m-manylinux1_x86_64.whl (50.0MB)\n",
            "\u001b[K     |████████████████████████████████| 50.0MB 828kB/s \n",
            "\u001b[?25hRequirement already satisfied: numpy>=1.8.2 in /usr/local/lib/python3.6/dist-packages (from scipy==1.0.0) (1.16.4)\n",
            "\u001b[31mERROR: cvxpy 1.0.15 has requirement scipy>=1.1.0, but you'll have scipy 1.0.0 which is incompatible.\u001b[0m\n",
            "\u001b[31mERROR: albumentations 0.1.12 has requirement imgaug<0.2.7,>=0.2.5, but you'll have imgaug 0.2.9 which is incompatible.\u001b[0m\n",
            "Installing collected packages: scipy\n",
            "  Found existing installation: scipy 1.3.0\n",
            "    Uninstalling scipy-1.3.0:\n",
            "      Successfully uninstalled scipy-1.3.0\n",
            "Successfully installed scipy-1.0.0\n"
          ],
          "name": "stdout"
        }
      ]
    },
    {
      "cell_type": "code",
      "metadata": {
        "id": "dpIKeBrXQCCo",
        "colab_type": "code",
        "colab": {}
      },
      "source": [
        "!git clone --quiet https://github.com/yukonta/EasyStyle"
      ],
      "execution_count": 0,
      "outputs": []
    },
    {
      "cell_type": "code",
      "metadata": {
        "id": "b77cUYjy2iBb",
        "colab_type": "code",
        "colab": {}
      },
      "source": [
        "import os\n",
        "os.chdir('EasyStyle')"
      ],
      "execution_count": 0,
      "outputs": []
    },
    {
      "cell_type": "code",
      "metadata": {
        "id": "81zeU97OaaZX",
        "colab_type": "code",
        "colab": {
          "base_uri": "https://localhost:8080/",
          "height": 85
        },
        "outputId": "bab79942-f994-47fc-9896-e7f42224577a"
      },
      "source": [
        "\n",
        "!gdown https://drive.google.com/uc?id=1v79B0tLVHU3YUpIeqXQqNOT1ARl_Gov- -O ./train2014_1000.zip"
      ],
      "execution_count": 5,
      "outputs": [
        {
          "output_type": "stream",
          "text": [
            "Downloading...\n",
            "From: https://drive.google.com/uc?id=1v79B0tLVHU3YUpIeqXQqNOT1ARl_Gov-\n",
            "To: /content/EasyStyle/train2014_1000.zip\n",
            "167MB [00:03, 54.6MB/s]\n"
          ],
          "name": "stdout"
        }
      ]
    },
    {
      "cell_type": "code",
      "metadata": {
        "id": "N5nHNzeFb1Td",
        "colab_type": "code",
        "colab": {}
      },
      "source": [
        "!unzip -q train2014_1000.zip -d neural_style/dataset_dir/train2014"
      ],
      "execution_count": 0,
      "outputs": []
    },
    {
      "cell_type": "code",
      "metadata": {
        "id": "CI6VvsC4sxhQ",
        "colab_type": "code",
        "colab": {
          "base_uri": "https://localhost:8080/",
          "height": 1142
        },
        "outputId": "e8af228c-95ee-41d2-b31c-b8f458530039"
      },
      "source": [
        "!python main.py"
      ],
      "execution_count": 8,
      "outputs": [
        {
          "output_type": "stream",
          "text": [
            "cuda\n",
            "User Start\n",
            "Got image from 820181414\n",
            "    -the first (content) image\n",
            "Got image from 820181414\n",
            "    -the second (style) image\n",
            "Train dataset is loaded\n",
            "Downloading: \"https://download.pytorch.org/models/vgg16-397923af.pth\" to /root/.cache/torch/checkpoints/vgg16-397923af.pth\n",
            "100% 553433881/553433881 [00:11<00:00, 47197909.66it/s]\n",
            "Epochs =  4\n",
            "2019-06-23 18:08:25,946 - telegram.vendor.ptb_urllib3.urllib3.connectionpool - WARNING - Retrying (Retry(total=2, connect=None, read=None, redirect=None)) after connection broken by 'NewConnectionError('<telegram.vendor.ptb_urllib3.urllib3.contrib.socks.SOCKSHTTPSConnection object at 0x7f1376148978>: Failed to establish a new connection: Connection closed unexpectedly',)': /bot866459131:AAEprvQw85c7NAJhVQON6aJK0ncEGnYyAiI/getUpdates\n",
            "2019-06-23 18:08:36,061 - telegram.vendor.ptb_urllib3.urllib3.connectionpool - WARNING - Retrying (Retry(total=2, connect=None, read=None, redirect=None)) after connection broken by 'NewConnectionError('<telegram.vendor.ptb_urllib3.urllib3.contrib.socks.SOCKSHTTPSConnection object at 0x7f137612a6a0>: Failed to establish a new connection: Connection closed unexpectedly',)': /bot866459131:AAEprvQw85c7NAJhVQON6aJK0ncEGnYyAiI/getUpdates\n",
            "2019-06-23 18:08:36,070 - telegram.vendor.ptb_urllib3.urllib3.connectionpool - WARNING - Retrying (Retry(total=1, connect=None, read=None, redirect=None)) after connection broken by 'NewConnectionError('<telegram.vendor.ptb_urllib3.urllib3.contrib.socks.SOCKSHTTPSConnection object at 0x7f13761501d0>: Failed to establish a new connection: Connection closed unexpectedly',)': /bot866459131:AAEprvQw85c7NAJhVQON6aJK0ncEGnYyAiI/getUpdates\n",
            "2019-06-23 18:08:36,092 - telegram.vendor.ptb_urllib3.urllib3.connectionpool - WARNING - Retrying (Retry(total=0, connect=None, read=None, redirect=None)) after connection broken by 'NewConnectionError('<telegram.vendor.ptb_urllib3.urllib3.contrib.socks.SOCKSHTTPSConnection object at 0x7f1376150390>: Failed to establish a new connection: [Errno 104] Connection reset by peer',)': /bot866459131:AAEprvQw85c7NAJhVQON6aJK0ncEGnYyAiI/getUpdates\n",
            "2019-06-23 18:08:36,101 - telegram.ext.updater - ERROR - Error while getting Updates: urllib3 HTTPError SOCKSHTTPSConnectionPool(host='api.telegram.org', port=443): Max retries exceeded with url: /bot866459131:AAEprvQw85c7NAJhVQON6aJK0ncEGnYyAiI/getUpdates (Caused by NewConnectionError('<telegram.vendor.ptb_urllib3.urllib3.contrib.socks.SOCKSHTTPSConnection object at 0x7f137612a748>: Failed to establish a new connection: Connection closed unexpectedly',))\n",
            "Sun Jun 23 18:08:37 2019\tEpoch 1:\t[200/1001]\tcontent: 762479.177500\tstyle: 13598224.000000\ttotal: 14360703.177500\n",
            "Sun Jun 23 18:08:51 2019\tEpoch 1:\t[400/1001]\tcontent: 860599.290625\tstyle: 11190458.185000\ttotal: 12051057.475625\n",
            "2019-06-23 18:08:57,300 - telegram.vendor.ptb_urllib3.urllib3.connectionpool - WARNING - Retrying (Retry(total=2, connect=None, read=None, redirect=None)) after connection broken by 'NewConnectionError('<telegram.vendor.ptb_urllib3.urllib3.contrib.socks.SOCKSHTTPSConnection object at 0x7f1376148898>: Failed to establish a new connection: Connection closed unexpectedly',)': /bot866459131:AAEprvQw85c7NAJhVQON6aJK0ncEGnYyAiI/getUpdates\n",
            "2019-06-23 18:08:57,310 - telegram.vendor.ptb_urllib3.urllib3.connectionpool - WARNING - Retrying (Retry(total=1, connect=None, read=None, redirect=None)) after connection broken by 'NewConnectionError('<telegram.vendor.ptb_urllib3.urllib3.contrib.socks.SOCKSHTTPSConnection object at 0x7f1376148ac8>: Failed to establish a new connection: Connection closed unexpectedly',)': /bot866459131:AAEprvQw85c7NAJhVQON6aJK0ncEGnYyAiI/getUpdates\n",
            "2019-06-23 18:08:57,319 - telegram.vendor.ptb_urllib3.urllib3.connectionpool - WARNING - Retrying (Retry(total=0, connect=None, read=None, redirect=None)) after connection broken by 'NewConnectionError('<telegram.vendor.ptb_urllib3.urllib3.contrib.socks.SOCKSHTTPSConnection object at 0x7f13760fab38>: Failed to establish a new connection: Connection closed unexpectedly',)': /bot866459131:AAEprvQw85c7NAJhVQON6aJK0ncEGnYyAiI/getUpdates\n",
            "2019-06-23 18:08:57,331 - telegram.ext.updater - ERROR - Error while getting Updates: urllib3 HTTPError SOCKSHTTPSConnectionPool(host='api.telegram.org', port=443): Max retries exceeded with url: /bot866459131:AAEprvQw85c7NAJhVQON6aJK0ncEGnYyAiI/getUpdates (Caused by NewConnectionError('<telegram.vendor.ptb_urllib3.urllib3.contrib.socks.SOCKSHTTPSConnection object at 0x7f13760facf8>: Failed to establish a new connection: Connection closed unexpectedly',))\n",
            "2019-06-23 18:08:58,340 - telegram.vendor.ptb_urllib3.urllib3.connectionpool - WARNING - Retrying (Retry(total=2, connect=None, read=None, redirect=None)) after connection broken by 'NewConnectionError('<telegram.vendor.ptb_urllib3.urllib3.contrib.socks.SOCKSHTTPSConnection object at 0x7f1376148240>: Failed to establish a new connection: Connection closed unexpectedly',)': /bot866459131:AAEprvQw85c7NAJhVQON6aJK0ncEGnYyAiI/getUpdates\n",
            "2019-06-23 18:08:58,350 - telegram.vendor.ptb_urllib3.urllib3.connectionpool - WARNING - Retrying (Retry(total=1, connect=None, read=None, redirect=None)) after connection broken by 'NewConnectionError('<telegram.vendor.ptb_urllib3.urllib3.contrib.socks.SOCKSHTTPSConnection object at 0x7f13761562b0>: Failed to establish a new connection: Connection closed unexpectedly',)': /bot866459131:AAEprvQw85c7NAJhVQON6aJK0ncEGnYyAiI/getUpdates\n",
            "Sun Jun 23 18:09:06 2019\tEpoch 1:\t[600/1001]\tcontent: 937047.548750\tstyle: 9662995.940000\ttotal: 10600043.488750\n",
            "Sun Jun 23 18:09:21 2019\tEpoch 1:\t[800/1001]\tcontent: 996973.018437\tstyle: 8257014.938750\ttotal: 9253987.957187\n",
            "Sun Jun 23 18:09:36 2019\tEpoch 1:\t[1000/1001]\tcontent: 1038581.866000\tstyle: 7044749.782000\ttotal: 8083331.648000\n",
            "Sun Jun 23 18:09:51 2019\tEpoch 2:\t[200/1001]\tcontent: 1214324.060000\tstyle: 1767611.227500\ttotal: 2981935.287500\n",
            "Sun Jun 23 18:10:06 2019\tEpoch 2:\t[400/1001]\tcontent: 1212825.728125\tstyle: 1635733.211250\ttotal: 2848558.939375\n",
            "Sun Jun 23 18:10:21 2019\tEpoch 2:\t[600/1001]\tcontent: 1216703.247083\tstyle: 1531479.499167\ttotal: 2748182.746250\n",
            "Sun Jun 23 18:10:36 2019\tEpoch 2:\t[800/1001]\tcontent: 1218131.318437\tstyle: 1456030.796875\ttotal: 2674162.115312\n",
            "Sun Jun 23 18:10:51 2019\tEpoch 2:\t[1000/1001]\tcontent: 1215326.921750\tstyle: 1390278.005750\ttotal: 2605604.927500\n",
            "Sun Jun 23 18:11:06 2019\tEpoch 3:\t[200/1001]\tcontent: 1198936.485000\tstyle: 1053479.242500\ttotal: 2252415.727500\n",
            "2019-06-23 18:11:19,688 - telegram.vendor.ptb_urllib3.urllib3.connectionpool - WARNING - Retrying (Retry(total=2, connect=None, read=None, redirect=None)) after connection broken by 'NewConnectionError('<telegram.vendor.ptb_urllib3.urllib3.contrib.socks.SOCKSHTTPSConnection object at 0x7f13761292e8>: Failed to establish a new connection: Connection closed unexpectedly',)': /bot866459131:AAEprvQw85c7NAJhVQON6aJK0ncEGnYyAiI/getUpdates\n",
            "2019-06-23 18:11:19,698 - telegram.vendor.ptb_urllib3.urllib3.connectionpool - WARNING - Retrying (Retry(total=1, connect=None, read=None, redirect=None)) after connection broken by 'NewConnectionError('<telegram.vendor.ptb_urllib3.urllib3.contrib.socks.SOCKSHTTPSConnection object at 0x7f13760f81d0>: Failed to establish a new connection: Connection closed unexpectedly',)': /bot866459131:AAEprvQw85c7NAJhVQON6aJK0ncEGnYyAiI/getUpdates\n",
            "2019-06-23 18:11:19,707 - telegram.vendor.ptb_urllib3.urllib3.connectionpool - WARNING - Retrying (Retry(total=0, connect=None, read=None, redirect=None)) after connection broken by 'NewConnectionError('<telegram.vendor.ptb_urllib3.urllib3.contrib.socks.SOCKSHTTPSConnection object at 0x7f13760f8d30>: Failed to establish a new connection: Connection closed unexpectedly',)': /bot866459131:AAEprvQw85c7NAJhVQON6aJK0ncEGnYyAiI/getUpdates\n",
            "2019-06-23 18:11:19,716 - telegram.ext.updater - ERROR - Error while getting Updates: urllib3 HTTPError SOCKSHTTPSConnectionPool(host='api.telegram.org', port=443): Max retries exceeded with url: /bot866459131:AAEprvQw85c7NAJhVQON6aJK0ncEGnYyAiI/getUpdates (Caused by NewConnectionError('<telegram.vendor.ptb_urllib3.urllib3.contrib.socks.SOCKSHTTPSConnection object at 0x7f137610add8>: Failed to establish a new connection: Connection closed unexpectedly',))\n",
            "2019-06-23 18:11:20,727 - telegram.vendor.ptb_urllib3.urllib3.connectionpool - WARNING - Retrying (Retry(total=2, connect=None, read=None, redirect=None)) after connection broken by 'NewConnectionError('<telegram.vendor.ptb_urllib3.urllib3.contrib.socks.SOCKSHTTPSConnection object at 0x7f1376130080>: Failed to establish a new connection: Connection closed unexpectedly',)': /bot866459131:AAEprvQw85c7NAJhVQON6aJK0ncEGnYyAiI/getUpdates\n",
            "2019-06-23 18:11:20,737 - telegram.vendor.ptb_urllib3.urllib3.connectionpool - WARNING - Retrying (Retry(total=1, connect=None, read=None, redirect=None)) after connection broken by 'NewConnectionError('<telegram.vendor.ptb_urllib3.urllib3.contrib.socks.SOCKSHTTPSConnection object at 0x7f13761304e0>: Failed to establish a new connection: Connection closed unexpectedly',)': /bot866459131:AAEprvQw85c7NAJhVQON6aJK0ncEGnYyAiI/getUpdates\n",
            "2019-06-23 18:11:20,746 - telegram.vendor.ptb_urllib3.urllib3.connectionpool - WARNING - Retrying (Retry(total=0, connect=None, read=None, redirect=None)) after connection broken by 'NewConnectionError('<telegram.vendor.ptb_urllib3.urllib3.contrib.socks.SOCKSHTTPSConnection object at 0x7f1376130be0>: Failed to establish a new connection: Connection closed unexpectedly',)': /bot866459131:AAEprvQw85c7NAJhVQON6aJK0ncEGnYyAiI/getUpdates\n",
            "Sun Jun 23 18:11:21 2019\tEpoch 3:\t[400/1001]\tcontent: 1190265.840625\tstyle: 1013421.124375\ttotal: 2203686.965000\n",
            "Sun Jun 23 18:11:36 2019\tEpoch 3:\t[600/1001]\tcontent: 1192045.145833\tstyle: 974216.159583\ttotal: 2166261.305417\n",
            "Sun Jun 23 18:11:51 2019\tEpoch 3:\t[800/1001]\tcontent: 1192327.331875\tstyle: 944829.389375\ttotal: 2137156.721250\n",
            "Sun Jun 23 18:12:06 2019\tEpoch 3:\t[1000/1001]\tcontent: 1189646.470000\tstyle: 913483.662250\ttotal: 2103130.132250\n",
            "Sun Jun 23 18:12:21 2019\tEpoch 4:\t[200/1001]\tcontent: 1176573.792500\tstyle: 742066.358750\ttotal: 1918640.151250\n",
            "Sun Jun 23 18:12:36 2019\tEpoch 4:\t[400/1001]\tcontent: 1166458.318750\tstyle: 723708.443750\ttotal: 1890166.762500\n",
            "Sun Jun 23 18:12:51 2019\tEpoch 4:\t[600/1001]\tcontent: 1167025.404167\tstyle: 705213.303750\ttotal: 1872238.707917\n",
            "Sun Jun 23 18:13:06 2019\tEpoch 4:\t[800/1001]\tcontent: 1166584.657500\tstyle: 695541.207187\ttotal: 1862125.864688\n",
            "2019-06-23 18:13:11,787 - telegram.vendor.ptb_urllib3.urllib3.connectionpool - WARNING - Retrying (Retry(total=2, connect=None, read=None, redirect=None)) after connection broken by 'NewConnectionError('<telegram.vendor.ptb_urllib3.urllib3.contrib.socks.SOCKSHTTPSConnection object at 0x7f1376156b00>: Failed to establish a new connection: Connection closed unexpectedly',)': /bot866459131:AAEprvQw85c7NAJhVQON6aJK0ncEGnYyAiI/getUpdates\n",
            "2019-06-23 18:13:11,796 - telegram.vendor.ptb_urllib3.urllib3.connectionpool - WARNING - Retrying (Retry(total=1, connect=None, read=None, redirect=None)) after connection broken by 'NewConnectionError('<telegram.vendor.ptb_urllib3.urllib3.contrib.socks.SOCKSHTTPSConnection object at 0x7f1376156a90>: Failed to establish a new connection: Connection closed unexpectedly',)': /bot866459131:AAEprvQw85c7NAJhVQON6aJK0ncEGnYyAiI/getUpdates\n",
            "Sun Jun 23 18:13:21 2019\tEpoch 4:\t[1000/1001]\tcontent: 1163318.520500\tstyle: 683096.855750\ttotal: 1846415.376250\n",
            "\n",
            "Done, trained model saved at neural_style/save_model_dir/epoch_4_Sun_Jun_23_18:13:21_2019_100000.0_10000000000.0.model\n",
            "Sent Photo to user\n",
            "2019-06-23 18:13:22,043 - __main__ - WARNING - Update \"None\" caused error \"urllib3 HTTPError SOCKSHTTPSConnectionPool(host='api.telegram.org', port=443): Max retries exceeded with url: /bot866459131:AAEprvQw85c7NAJhVQON6aJK0ncEGnYyAiI/getUpdates (Caused by NewConnectionError('<telegram.vendor.ptb_urllib3.urllib3.contrib.socks.SOCKSHTTPSConnection object at 0x7f137612a748>: Failed to establish a new connection: Connection closed unexpectedly',))\"\n",
            "2019-06-23 18:13:22,043 - __main__ - WARNING - Update \"None\" caused error \"urllib3 HTTPError SOCKSHTTPSConnectionPool(host='api.telegram.org', port=443): Max retries exceeded with url: /bot866459131:AAEprvQw85c7NAJhVQON6aJK0ncEGnYyAiI/getUpdates (Caused by NewConnectionError('<telegram.vendor.ptb_urllib3.urllib3.contrib.socks.SOCKSHTTPSConnection object at 0x7f13760facf8>: Failed to establish a new connection: Connection closed unexpectedly',))\"\n",
            "2019-06-23 18:13:22,044 - __main__ - WARNING - Update \"None\" caused error \"urllib3 HTTPError SOCKSHTTPSConnectionPool(host='api.telegram.org', port=443): Max retries exceeded with url: /bot866459131:AAEprvQw85c7NAJhVQON6aJK0ncEGnYyAiI/getUpdates (Caused by NewConnectionError('<telegram.vendor.ptb_urllib3.urllib3.contrib.socks.SOCKSHTTPSConnection object at 0x7f137610add8>: Failed to establish a new connection: Connection closed unexpectedly',))\"\n",
            "Exception ignored in: <module 'threading' from '/usr/lib/python3.6/threading.py'>\n",
            "Traceback (most recent call last):\n",
            "  File \"/usr/lib/python3.6/threading.py\", line 1294, in _shutdown\n",
            "    t.join()\n",
            "  File \"/usr/lib/python3.6/threading.py\", line 1056, in join\n",
            "    self._wait_for_tstate_lock()\n",
            "  File \"/usr/lib/python3.6/threading.py\", line 1072, in _wait_for_tstate_lock\n",
            "    elif lock.acquire(block, timeout):\n",
            "KeyboardInterrupt\n"
          ],
          "name": "stdout"
        }
      ]
    }
  ]
}